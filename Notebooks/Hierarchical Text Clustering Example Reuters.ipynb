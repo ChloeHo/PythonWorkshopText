{
 "cells": [
  {
   "cell_type": "code",
   "execution_count": 1,
   "metadata": {
    "collapsed": true
   },
   "outputs": [],
   "source": [
    "import numpy as np\n",
    "import pandas as pd\n",
    "import matplotlib.pyplot as plt\n",
    "\n",
    "from scipy.cluster.hierarchy import fcluster\n",
    "from sklearn.metrics.pairwise import cosine_similarity\n",
    "from scipy.cluster.hierarchy import ward, dendrogram\n",
    "\n",
    "%matplotlib inline"
   ]
  },
  {
   "cell_type": "code",
   "execution_count": 2,
   "metadata": {
    "collapsed": true
   },
   "outputs": [],
   "source": [
    "import lda.datasets\n",
    "data = lda.datasets.load_reuters()"
   ]
  },
  {
   "cell_type": "code",
   "execution_count": 3,
   "metadata": {
    "collapsed": false
   },
   "outputs": [],
   "source": [
    "vocab = lda.datasets.load_reuters_vocab()\n",
    "titles = lda.datasets.load_reuters_titles()"
   ]
  },
  {
   "cell_type": "markdown",
   "metadata": {},
   "source": [
    "* 395 articles\n",
    "* 4258 vocab"
   ]
  },
  {
   "cell_type": "code",
   "execution_count": 4,
   "metadata": {
    "collapsed": false
   },
   "outputs": [
    {
     "data": {
      "text/plain": [
       "array([1, 0, 1, 0, 0, 0, 1, 0, 0, 1, 0, 0, 5, 2, 0, 0, 0, 0, 0, 0, 1, 4, 0,\n",
       "       0], dtype=int32)"
      ]
     },
     "execution_count": 4,
     "metadata": {},
     "output_type": "execute_result"
    }
   ],
   "source": [
    "data[0][0:24]"
   ]
  },
  {
   "cell_type": "code",
   "execution_count": 5,
   "metadata": {
    "collapsed": false
   },
   "outputs": [
    {
     "data": {
      "text/plain": [
       "(395, 4258)"
      ]
     },
     "execution_count": 5,
     "metadata": {},
     "output_type": "execute_result"
    }
   ],
   "source": [
    "data.shape"
   ]
  },
  {
   "cell_type": "code",
   "execution_count": 7,
   "metadata": {
    "collapsed": false
   },
   "outputs": [
    {
     "data": {
      "text/plain": [
       "array([[ 1,  0,  1, ...,  0,  0,  0],\n",
       "       [ 7,  0,  2, ...,  0,  0,  0],\n",
       "       [ 0,  0,  0, ...,  0,  0,  0],\n",
       "       ..., \n",
       "       [ 1,  0,  0, ...,  0,  0,  0],\n",
       "       [ 3,  0,  0, ...,  0,  0,  0],\n",
       "       [ 2, 11,  0, ...,  0,  0,  0]], dtype=int32)"
      ]
     },
     "execution_count": 7,
     "metadata": {},
     "output_type": "execute_result"
    }
   ],
   "source": [
    "data[0:25]"
   ]
  },
  {
   "cell_type": "code",
   "execution_count": 8,
   "metadata": {
    "collapsed": true
   },
   "outputs": [],
   "source": [
    "dist = 1-cosine_similarity(data[0:25])"
   ]
  },
  {
   "cell_type": "code",
   "execution_count": 9,
   "metadata": {
    "collapsed": true
   },
   "outputs": [],
   "source": [
    "linkage_matrix = ward(dist)"
   ]
  },
  {
   "cell_type": "code",
   "execution_count": 11,
   "metadata": {
    "collapsed": false,
    "scrolled": true
   },
   "outputs": [
    {
     "data": {
      "image/png": "[encoded data removed]",
      "text/plain": [
       "<matplotlib.figure.Figure at 0x10bdc8a50>"
      ]
     },
     "metadata": {},
     "output_type": "display_data"
    }
   ],
   "source": [
    "dendrogram(linkage_matrix, orientation= \"right\")\n",
    "plt.show()"
   ]
  },
  {
   "cell_type": "code",
   "execution_count": 17,
   "metadata": {
    "collapsed": false
   },
   "outputs": [],
   "source": [
    "k=3\n",
    "clusters = fcluster(linkage_matrix, k, criterion='maxclust')"
   ]
  },
  {
   "cell_type": "code",
   "execution_count": 18,
   "metadata": {
    "collapsed": true
   },
   "outputs": [],
   "source": [
    "def print_cluster_titles(title, cluster_list, cluster):\n",
    "    for i in np.where(clusters == cluster)[0]:\n",
    "        print(titles[i])"
   ]
  },
  {
   "cell_type": "code",
   "execution_count": 19,
   "metadata": {
    "collapsed": false
   },
   "outputs": [
    {
     "name": "stdout",
     "output_type": "stream",
     "text": [
      "2 INDIA: Mother Teresa's condition said still unstable. CALCUTTA 1996-08-23\n",
      "4 INDIA: Mother Teresa, slightly stronger, blesses nuns. CALCUTTA 1996-08-25\n",
      "5 INDIA: Mother Teresa's condition unchanged, thousands pray. CALCUTTA 1996-08-25\n",
      "6 INDIA: Mother Teresa shows signs of strength, blesses nuns. CALCUTTA 1996-08-26\n",
      "7 INDIA: Mother Teresa's condition improves, many pray. CALCUTTA, India 1996-08-25\n",
      "8 INDIA: Mother Teresa improves, nuns pray for \"miracle\". CALCUTTA 1996-08-26\n",
      "12 INDIA: Mother Teresa (\"I want to go home\") sits and prays. CALCUTTA 1996-08-28\n",
      "13 INDIA: Mother Teresa nears end of crisis, nuns rejoice. CALCUTTA 1996-08-28\n"
     ]
    }
   ],
   "source": [
    "print_cluster_titles(titles[0:25], clusters, 1)"
   ]
  },
  {
   "cell_type": "code",
   "execution_count": 20,
   "metadata": {
    "collapsed": false
   },
   "outputs": [
    {
     "name": "stdout",
     "output_type": "stream",
     "text": [
      "0 UK: Prince Charles spearheads British royal revolution. LONDON 1996-08-20\n",
      "3 UK: Palace warns British weekly over Charles pictures. LONDON 1996-08-25\n",
      "9 UK: Charles under fire over prospect of Queen Camilla. LONDON 1996-08-26\n",
      "10 UK: Britain tells Charles to forget Camilla. LONDON 1996-08-27\n",
      "14 UK: Prosaic end for marriage of Charles and Diana. LONDON 1996-08-28\n",
      "15 UK: No respite for British royals despite divorce. LONDON 1996-08-28\n",
      "16 UK: Camilla, love of Charles' life, an unlikely queen. LONDON 1996-08-28\n",
      "17 UK: Diana sets out on new life as single woman. LONDON 1996-08-28\n"
     ]
    }
   ],
   "source": [
    "print_cluster_titles(titles[0:25], clusters, 2)"
   ]
  },
  {
   "cell_type": "code",
   "execution_count": 21,
   "metadata": {
    "collapsed": false
   },
   "outputs": [
    {
     "name": "stdout",
     "output_type": "stream",
     "text": [
      "1 GERMANY: Historic Dresden church rising from WW2 ashes. DRESDEN, Germany 1996-08-21\n",
      "11 COTE D'IVOIRE: FEATURE - Quiet homecoming for reprieved Ivory Coast maid. ABIDJAN 1996-08-28\n",
      "18 USA: O.J. Simpson attacks media, hints at lawsuits. WASHINGTON 1996-08-28\n",
      "19 USA: U.S. Cardinal Bernardin has one year or less to live. CHICAGO 1996-08-30\n",
      "20 USA: U.S. Cardinal Bernardin says has terminal cancer. CHICAGO 1996-08-30\n",
      "21 ROMANIA: German architect wins Bucharest rebuilding prize. BUCHAREST 1996-09-02\n",
      "22 ARGENTINA: Argentina's \"Blond Angel\" finally quits Navy. BUENOS AIRES, Argentina 1996-09-02\n",
      "23 UK: Disney lights up Pocahontas resting place. GRAVESEND, England 1996-09-06\n",
      "24 HUNGARY: POPE LEAVES HUNGARY AFTER DEMANDING TWO-DAY VISIT. BUDAPEST 1996-09-07\n"
     ]
    }
   ],
   "source": [
    "print_cluster_titles(titles[0:25], clusters, 3)"
   ]
  },
  {
   "cell_type": "code",
   "execution_count": null,
   "metadata": {
    "collapsed": true
   },
   "outputs": [],
   "source": []
  }
 ],
 "metadata": {
  "kernelspec": {
   "display_name": "Python 2",
   "language": "python",
   "name": "python2"
  },
  "language_info": {
   "codemirror_mode": {
    "name": "ipython",
    "version": 2
   },
   "file_extension": ".py",
   "mimetype": "text/x-python",
   "name": "python",
   "nbconvert_exporter": "python",
   "pygments_lexer": "ipython2",
   "version": "2.7.12"
  }
 },
 "nbformat": 4,
 "nbformat_minor": 0
}
